{
 "cells": [
  {
   "cell_type": "markdown",
   "metadata": {},
   "source": [
    "# Use Gen AI to build DENG pipeline \n",
    "\n",
    "This presents the idea for how to use GenAI, to help to build a medallion architecture"
   ]
  },
  {
   "cell_type": "markdown",
   "metadata": {},
   "source": [
    "## Basic Setup\n",
    "We'll use [duckdb](https://duckdb.org/) as the database."
   ]
  },
  {
   "cell_type": "code",
   "execution_count": 1,
   "metadata": {},
   "outputs": [
    {
     "data": {
      "text/html": [
       "<span style=\"None\">displaylimit: Value None will be treated as 0 (no limit)</span>"
      ],
      "text/plain": [
       "displaylimit: Value None will be treated as 0 (no limit)"
      ]
     },
     "metadata": {},
     "output_type": "display_data"
    }
   ],
   "source": [
    "import duckdb\n",
    "# import pandas as pd\n",
    "# No need to import duckdb_engine\n",
    "#  jupysql will auto-detect the driver needed based on the connection string!\n",
    "\n",
    "# Import jupysql Jupyter extension to create SQL cells\n",
    "%load_ext sql\n",
    "\n",
    "# Config\n",
    "# %config SqlMagic.autopandas = True\n",
    "%config SqlMagic.feedback = False\n",
    "%config SqlMagic.displaycon = False\n",
    "%config SqlMagic.named_parameters=True\n",
    "%config SqlMagic.displaylimit = None\n",
    "\n",
    "# Connect to DuckDB\n",
    "# %sql duckdb:///:default:\n",
    "# %sql duckdb:///:memory:\n",
    "%sql duckdb:////Users/jesse23/u/p/tide/notes/test.db"
   ]
  },
  {
   "cell_type": "markdown",
   "metadata": {},
   "source": [
    "Assuming we have source data as below:"
   ]
  },
  {
   "cell_type": "code",
   "execution_count": 2,
   "metadata": {
    "vscode": {
     "languageId": "sql"
    }
   },
   "outputs": [
    {
     "data": {
      "text/html": [
       "<table>\n",
       "    <thead>\n",
       "        <tr>\n",
       "            <th>id</th>\n",
       "            <th>name</th>\n",
       "            <th>type</th>\n",
       "            <th>designer</th>\n",
       "        </tr>\n",
       "    </thead>\n",
       "    <tbody>\n",
       "        <tr>\n",
       "            <td>0</td>\n",
       "            <td>part0</td>\n",
       "            <td>part</td>\n",
       "            <td>Allen</td>\n",
       "        </tr>\n",
       "        <tr>\n",
       "            <td>1</td>\n",
       "            <td>part1</td>\n",
       "            <td>part</td>\n",
       "            <td>Bobby</td>\n",
       "        </tr>\n",
       "        <tr>\n",
       "            <td>2</td>\n",
       "            <td>part2</td>\n",
       "            <td>part</td>\n",
       "            <td>Cindy</td>\n",
       "        </tr>\n",
       "        <tr>\n",
       "            <td>3</td>\n",
       "            <td>part00</td>\n",
       "            <td>part</td>\n",
       "            <td>David</td>\n",
       "        </tr>\n",
       "        <tr>\n",
       "            <td>4</td>\n",
       "            <td>part001</td>\n",
       "            <td>part</td>\n",
       "            <td>Eddie</td>\n",
       "        </tr>\n",
       "        <tr>\n",
       "            <td>5</td>\n",
       "            <td>part002</td>\n",
       "            <td>part</td>\n",
       "            <td>Frank</td>\n",
       "        </tr>\n",
       "        <tr>\n",
       "            <td>6</td>\n",
       "            <td>part10</td>\n",
       "            <td>part</td>\n",
       "            <td>George</td>\n",
       "        </tr>\n",
       "        <tr>\n",
       "            <td>7</td>\n",
       "            <td>part100</td>\n",
       "            <td>part</td>\n",
       "            <td>Harry</td>\n",
       "        </tr>\n",
       "        <tr>\n",
       "            <td>8</td>\n",
       "            <td>part101</td>\n",
       "            <td>part</td>\n",
       "            <td>Ivan</td>\n",
       "        </tr>\n",
       "        <tr>\n",
       "            <td>9</td>\n",
       "            <td>part11</td>\n",
       "            <td>part</td>\n",
       "            <td>Jack</td>\n",
       "        </tr>\n",
       "        <tr>\n",
       "            <td>10</td>\n",
       "            <td>part110</td>\n",
       "            <td>part</td>\n",
       "            <td>Kevin</td>\n",
       "        </tr>\n",
       "        <tr>\n",
       "            <td>11</td>\n",
       "            <td>part111</td>\n",
       "            <td>part</td>\n",
       "            <td>Larry</td>\n",
       "        </tr>\n",
       "    </tbody>\n",
       "</table>"
      ],
      "text/plain": [
       "+----+---------+------+----------+\n",
       "| id |   name  | type | designer |\n",
       "+----+---------+------+----------+\n",
       "| 0  |  part0  | part |  Allen   |\n",
       "| 1  |  part1  | part |  Bobby   |\n",
       "| 2  |  part2  | part |  Cindy   |\n",
       "| 3  |  part00 | part |  David   |\n",
       "| 4  | part001 | part |  Eddie   |\n",
       "| 5  | part002 | part |  Frank   |\n",
       "| 6  |  part10 | part |  George  |\n",
       "| 7  | part100 | part |  Harry   |\n",
       "| 8  | part101 | part |   Ivan   |\n",
       "| 9  |  part11 | part |   Jack   |\n",
       "| 10 | part110 | part |  Kevin   |\n",
       "| 11 | part111 | part |  Larry   |\n",
       "+----+---------+------+----------+"
      ]
     },
     "execution_count": 2,
     "metadata": {},
     "output_type": "execute_result"
    }
   ],
   "source": [
    "%%sql \n",
    "-- part data, assuming import by a CSV\n",
    "CREATE TABLE IF NOT EXISTS bronze_design\n",
    "  (id INTEGER, name VARCHAR, type VARCHAR, designer VARCHAR);\n",
    "INSERT INTO bronze_design VALUES \n",
    "  (0,  'part0',   'part', 'Allen'), \n",
    "  (1,  'part1',   'part', 'Bobby'), \n",
    "  (2,  'part2',   'part', 'Cindy'), \n",
    "  (3,  'part00',  'part', 'David'), \n",
    "  (4,  'part001', 'part', 'Eddie'), \n",
    "  (5,  'part002', 'part', 'Frank'), \n",
    "  (6,  'part10',  'part', 'George'), \n",
    "  (7,  'part100', 'part', 'Harry'), \n",
    "  (8,  'part101', 'part', 'Ivan'), \n",
    "  (9,  'part11',  'part', 'Jack'), \n",
    "  (10, 'part110', 'part', 'Kevin'), \n",
    "  (11, 'part111', 'part', 'Larry'); \n",
    "\n",
    "-- company info, import by a CSV\n",
    "CREATE TABLE IF NOT EXISTS bronze_design_office\n",
    "  (design VARCHAR, office VARCHAR);\n",
    "INSERT INTO bronze_design_office VALUES \n",
    "  ('part001', 'SmartView' ), \n",
    "  ('part10', 'FutureIdea'); \n",
    "\n",
    "SELECT * from bronze_design;"
   ]
  },
  {
   "cell_type": "code",
   "execution_count": 3,
   "metadata": {
    "vscode": {
     "languageId": "sql"
    }
   },
   "outputs": [
    {
     "data": {
      "text/html": [
       "<table>\n",
       "    <thead>\n",
       "        <tr>\n",
       "            <th>Count</th>\n",
       "        </tr>\n",
       "    </thead>\n",
       "    <tbody>\n",
       "    </tbody>\n",
       "</table>"
      ],
      "text/plain": [
       "+-------+\n",
       "| Count |\n",
       "+-------+\n",
       "+-------+"
      ]
     },
     "execution_count": 3,
     "metadata": {},
     "output_type": "execute_result"
    }
   ],
   "source": [
    "%%sql\n",
    "-- Step 1: Create a mapping table to hold the UUIDs for each design\n",
    "CREATE TABLE IF NOT EXISTS design_uuid_map AS\n",
    "SELECT id, name, type, designer, uuid() AS uuid\n",
    "FROM bronze_design;\n",
    "\n",
    "-- Step 2: Create a mapping for parents and children\n",
    "CREATE TABLE IF NOT EXISTS design_parent_child AS\n",
    "SELECT \n",
    "    child.id AS child_id,\n",
    "    parent.uuid AS parent_uuid\n",
    "FROM \n",
    "    bronze_design child\n",
    "LEFT JOIN \n",
    "    design_uuid_map parent\n",
    "ON \n",
    "    parent.name = SUBSTRING(child.name FROM 1 FOR LENGTH(child.name) - 1);\n",
    "\n",
    "-- Step 3: Merge the data to create the silver table\n",
    "CREATE TABLE silver_design AS\n",
    "SELECT \n",
    "    d.uuid AS id,\n",
    "    d.name,\n",
    "    d.type,\n",
    "    d.designer,\n",
    "    o.office,\n",
    "    pc.parent_uuid\n",
    "FROM \n",
    "    design_uuid_map d\n",
    "LEFT JOIN \n",
    "    bronze_design_office o\n",
    "ON \n",
    "    d.name = o.design\n",
    "LEFT JOIN \n",
    "    design_parent_child pc\n",
    "ON \n",
    "    d.id = pc.child_id;\n"
   ]
  },
  {
   "cell_type": "code",
   "execution_count": 4,
   "metadata": {
    "vscode": {
     "languageId": "sql"
    }
   },
   "outputs": [
    {
     "data": {
      "text/html": [
       "<table>\n",
       "    <thead>\n",
       "        <tr>\n",
       "            <th>id</th>\n",
       "            <th>name</th>\n",
       "            <th>type</th>\n",
       "            <th>designer</th>\n",
       "            <th>office</th>\n",
       "            <th>parent_uuid</th>\n",
       "        </tr>\n",
       "    </thead>\n",
       "    <tbody>\n",
       "        <tr>\n",
       "            <td>21803e18-c9ed-48f5-9b34-5e6b949f9ad3</td>\n",
       "            <td>part001</td>\n",
       "            <td>part</td>\n",
       "            <td>Eddie</td>\n",
       "            <td>SmartView</td>\n",
       "            <td>ab21bde4-7baa-48bd-99e7-17482b5856c7</td>\n",
       "        </tr>\n",
       "        <tr>\n",
       "            <td>32d6afa0-8c92-4424-81ea-8b97597bcc54</td>\n",
       "            <td>part10</td>\n",
       "            <td>part</td>\n",
       "            <td>George</td>\n",
       "            <td>FutureIdea</td>\n",
       "            <td>f5c222db-efe5-431b-8d5f-558a3ee3fbf3</td>\n",
       "        </tr>\n",
       "        <tr>\n",
       "            <td>4ffa0d82-11b1-45cd-a5fa-c54007a4a487</td>\n",
       "            <td>part0</td>\n",
       "            <td>part</td>\n",
       "            <td>Allen</td>\n",
       "            <td>None</td>\n",
       "            <td>None</td>\n",
       "        </tr>\n",
       "        <tr>\n",
       "            <td>f5c222db-efe5-431b-8d5f-558a3ee3fbf3</td>\n",
       "            <td>part1</td>\n",
       "            <td>part</td>\n",
       "            <td>Bobby</td>\n",
       "            <td>None</td>\n",
       "            <td>None</td>\n",
       "        </tr>\n",
       "        <tr>\n",
       "            <td>33e3ecd7-4d20-4d0a-a86a-cbfd5c8fec2c</td>\n",
       "            <td>part2</td>\n",
       "            <td>part</td>\n",
       "            <td>Cindy</td>\n",
       "            <td>None</td>\n",
       "            <td>None</td>\n",
       "        </tr>\n",
       "        <tr>\n",
       "            <td>ab21bde4-7baa-48bd-99e7-17482b5856c7</td>\n",
       "            <td>part00</td>\n",
       "            <td>part</td>\n",
       "            <td>David</td>\n",
       "            <td>None</td>\n",
       "            <td>4ffa0d82-11b1-45cd-a5fa-c54007a4a487</td>\n",
       "        </tr>\n",
       "        <tr>\n",
       "            <td>b5908dc7-4a4a-464b-8f2f-9cf0ee3e1a56</td>\n",
       "            <td>part002</td>\n",
       "            <td>part</td>\n",
       "            <td>Frank</td>\n",
       "            <td>None</td>\n",
       "            <td>ab21bde4-7baa-48bd-99e7-17482b5856c7</td>\n",
       "        </tr>\n",
       "        <tr>\n",
       "            <td>bca3aea1-0343-4e23-858a-00d4d6ccfb37</td>\n",
       "            <td>part100</td>\n",
       "            <td>part</td>\n",
       "            <td>Harry</td>\n",
       "            <td>None</td>\n",
       "            <td>32d6afa0-8c92-4424-81ea-8b97597bcc54</td>\n",
       "        </tr>\n",
       "        <tr>\n",
       "            <td>b926df8a-3e92-418f-beb6-673f57af17d3</td>\n",
       "            <td>part101</td>\n",
       "            <td>part</td>\n",
       "            <td>Ivan</td>\n",
       "            <td>None</td>\n",
       "            <td>32d6afa0-8c92-4424-81ea-8b97597bcc54</td>\n",
       "        </tr>\n",
       "        <tr>\n",
       "            <td>3e6c17b4-e3f7-47c4-b9d3-edf34db4816c</td>\n",
       "            <td>part11</td>\n",
       "            <td>part</td>\n",
       "            <td>Jack</td>\n",
       "            <td>None</td>\n",
       "            <td>f5c222db-efe5-431b-8d5f-558a3ee3fbf3</td>\n",
       "        </tr>\n",
       "        <tr>\n",
       "            <td>2464eba8-64bf-435d-8f2b-9210a58f56cf</td>\n",
       "            <td>part110</td>\n",
       "            <td>part</td>\n",
       "            <td>Kevin</td>\n",
       "            <td>None</td>\n",
       "            <td>3e6c17b4-e3f7-47c4-b9d3-edf34db4816c</td>\n",
       "        </tr>\n",
       "        <tr>\n",
       "            <td>26f5a93a-d42f-4105-b83a-e8ce3048b728</td>\n",
       "            <td>part111</td>\n",
       "            <td>part</td>\n",
       "            <td>Larry</td>\n",
       "            <td>None</td>\n",
       "            <td>3e6c17b4-e3f7-47c4-b9d3-edf34db4816c</td>\n",
       "        </tr>\n",
       "    </tbody>\n",
       "</table>"
      ],
      "text/plain": [
       "+--------------------------------------+---------+------+----------+------------+--------------------------------------+\n",
       "|                  id                  |   name  | type | designer |   office   |             parent_uuid              |\n",
       "+--------------------------------------+---------+------+----------+------------+--------------------------------------+\n",
       "| 21803e18-c9ed-48f5-9b34-5e6b949f9ad3 | part001 | part |  Eddie   | SmartView  | ab21bde4-7baa-48bd-99e7-17482b5856c7 |\n",
       "| 32d6afa0-8c92-4424-81ea-8b97597bcc54 |  part10 | part |  George  | FutureIdea | f5c222db-efe5-431b-8d5f-558a3ee3fbf3 |\n",
       "| 4ffa0d82-11b1-45cd-a5fa-c54007a4a487 |  part0  | part |  Allen   |    None    |                 None                 |\n",
       "| f5c222db-efe5-431b-8d5f-558a3ee3fbf3 |  part1  | part |  Bobby   |    None    |                 None                 |\n",
       "| 33e3ecd7-4d20-4d0a-a86a-cbfd5c8fec2c |  part2  | part |  Cindy   |    None    |                 None                 |\n",
       "| ab21bde4-7baa-48bd-99e7-17482b5856c7 |  part00 | part |  David   |    None    | 4ffa0d82-11b1-45cd-a5fa-c54007a4a487 |\n",
       "| b5908dc7-4a4a-464b-8f2f-9cf0ee3e1a56 | part002 | part |  Frank   |    None    | ab21bde4-7baa-48bd-99e7-17482b5856c7 |\n",
       "| bca3aea1-0343-4e23-858a-00d4d6ccfb37 | part100 | part |  Harry   |    None    | 32d6afa0-8c92-4424-81ea-8b97597bcc54 |\n",
       "| b926df8a-3e92-418f-beb6-673f57af17d3 | part101 | part |   Ivan   |    None    | 32d6afa0-8c92-4424-81ea-8b97597bcc54 |\n",
       "| 3e6c17b4-e3f7-47c4-b9d3-edf34db4816c |  part11 | part |   Jack   |    None    | f5c222db-efe5-431b-8d5f-558a3ee3fbf3 |\n",
       "| 2464eba8-64bf-435d-8f2b-9210a58f56cf | part110 | part |  Kevin   |    None    | 3e6c17b4-e3f7-47c4-b9d3-edf34db4816c |\n",
       "| 26f5a93a-d42f-4105-b83a-e8ce3048b728 | part111 | part |  Larry   |    None    | 3e6c17b4-e3f7-47c4-b9d3-edf34db4816c |\n",
       "+--------------------------------------+---------+------+----------+------------+--------------------------------------+"
      ]
     },
     "execution_count": 4,
     "metadata": {},
     "output_type": "execute_result"
    }
   ],
   "source": [
    "%%sql\n",
    "select * from silver_design;"
   ]
  }
 ],
 "metadata": {
  "kernelspec": {
   "display_name": ".env",
   "language": "python",
   "name": "python3"
  },
  "language_info": {
   "codemirror_mode": {
    "name": "ipython",
    "version": 3
   },
   "file_extension": ".py",
   "mimetype": "text/x-python",
   "name": "python",
   "nbconvert_exporter": "python",
   "pygments_lexer": "ipython3",
   "version": "3.11.6"
  }
 },
 "nbformat": 4,
 "nbformat_minor": 2
}
