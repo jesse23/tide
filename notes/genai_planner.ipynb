{
 "cells": [
  {
   "cell_type": "markdown",
   "metadata": {},
   "source": [
    "# Use Gen AI to build DENG pipeline \n",
    "\n",
    "This presents the idea for how to use GenAI, to help to build a medallion architecture"
   ]
  },
  {
   "cell_type": "markdown",
   "metadata": {},
   "source": [
    "## Basic Setup\n",
    "We'll use [duckdb](https://duckdb.org/) as the database."
   ]
  },
  {
   "cell_type": "code",
   "execution_count": 1,
   "metadata": {},
   "outputs": [
    {
     "data": {
      "text/html": [
       "<span style=\"None\">displaylimit: Value None will be treated as 0 (no limit)</span>"
      ],
      "text/plain": [
       "displaylimit: Value None will be treated as 0 (no limit)"
      ]
     },
     "metadata": {},
     "output_type": "display_data"
    }
   ],
   "source": [
    "import duckdb\n",
    "# import pandas as pd\n",
    "# No need to import duckdb_engine\n",
    "#  jupysql will auto-detect the driver needed based on the connection string!\n",
    "\n",
    "# Import jupysql Jupyter extension to create SQL cells\n",
    "%load_ext sql\n",
    "\n",
    "# Config\n",
    "# %config SqlMagic.autopandas = True\n",
    "%config SqlMagic.feedback = False\n",
    "%config SqlMagic.displaycon = False\n",
    "%config SqlMagic.named_parameters=True\n",
    "%config SqlMagic.displaylimit = None\n",
    "\n",
    "# Connect to DuckDB\n",
    "# %sql duckdb:///:default:\n",
    "# %sql duckdb:///:memory:\n",
    "%sql duckdb:////Users/jesse23/u/p/tide/notes/test.db"
   ]
  },
  {
   "cell_type": "markdown",
   "metadata": {},
   "source": [
    "Assuming we have source data as below:"
   ]
  },
  {
   "cell_type": "code",
   "execution_count": 2,
   "metadata": {
    "vscode": {
     "languageId": "sql"
    }
   },
   "outputs": [
    {
     "data": {
      "text/html": [
       "<table>\n",
       "    <thead>\n",
       "        <tr>\n",
       "            <th>id</th>\n",
       "            <th>name</th>\n",
       "            <th>type</th>\n",
       "            <th>designer</th>\n",
       "        </tr>\n",
       "    </thead>\n",
       "    <tbody>\n",
       "        <tr>\n",
       "            <td>0</td>\n",
       "            <td>part0</td>\n",
       "            <td>part</td>\n",
       "            <td>Allen</td>\n",
       "        </tr>\n",
       "        <tr>\n",
       "            <td>1</td>\n",
       "            <td>part1</td>\n",
       "            <td>part</td>\n",
       "            <td>Bobby</td>\n",
       "        </tr>\n",
       "        <tr>\n",
       "            <td>2</td>\n",
       "            <td>part2</td>\n",
       "            <td>part</td>\n",
       "            <td>Cindy</td>\n",
       "        </tr>\n",
       "        <tr>\n",
       "            <td>3</td>\n",
       "            <td>part00</td>\n",
       "            <td>part</td>\n",
       "            <td>David</td>\n",
       "        </tr>\n",
       "        <tr>\n",
       "            <td>4</td>\n",
       "            <td>part001</td>\n",
       "            <td>part</td>\n",
       "            <td>Eddie</td>\n",
       "        </tr>\n",
       "        <tr>\n",
       "            <td>5</td>\n",
       "            <td>part002</td>\n",
       "            <td>part</td>\n",
       "            <td>Frank</td>\n",
       "        </tr>\n",
       "        <tr>\n",
       "            <td>6</td>\n",
       "            <td>part10</td>\n",
       "            <td>part</td>\n",
       "            <td>George</td>\n",
       "        </tr>\n",
       "        <tr>\n",
       "            <td>7</td>\n",
       "            <td>part100</td>\n",
       "            <td>part</td>\n",
       "            <td>Harry</td>\n",
       "        </tr>\n",
       "        <tr>\n",
       "            <td>8</td>\n",
       "            <td>part101</td>\n",
       "            <td>part</td>\n",
       "            <td>Ivan</td>\n",
       "        </tr>\n",
       "        <tr>\n",
       "            <td>9</td>\n",
       "            <td>part11</td>\n",
       "            <td>part</td>\n",
       "            <td>Jack</td>\n",
       "        </tr>\n",
       "        <tr>\n",
       "            <td>10</td>\n",
       "            <td>part110</td>\n",
       "            <td>part</td>\n",
       "            <td>Kevin</td>\n",
       "        </tr>\n",
       "        <tr>\n",
       "            <td>11</td>\n",
       "            <td>part111</td>\n",
       "            <td>part</td>\n",
       "            <td>Larry</td>\n",
       "        </tr>\n",
       "    </tbody>\n",
       "</table>"
      ],
      "text/plain": [
       "+----+---------+------+----------+\n",
       "| id |   name  | type | designer |\n",
       "+----+---------+------+----------+\n",
       "| 0  |  part0  | part |  Allen   |\n",
       "| 1  |  part1  | part |  Bobby   |\n",
       "| 2  |  part2  | part |  Cindy   |\n",
       "| 3  |  part00 | part |  David   |\n",
       "| 4  | part001 | part |  Eddie   |\n",
       "| 5  | part002 | part |  Frank   |\n",
       "| 6  |  part10 | part |  George  |\n",
       "| 7  | part100 | part |  Harry   |\n",
       "| 8  | part101 | part |   Ivan   |\n",
       "| 9  |  part11 | part |   Jack   |\n",
       "| 10 | part110 | part |  Kevin   |\n",
       "| 11 | part111 | part |  Larry   |\n",
       "+----+---------+------+----------+"
      ]
     },
     "execution_count": 2,
     "metadata": {},
     "output_type": "execute_result"
    }
   ],
   "source": [
    "%%sql \n",
    "-- part data, assuming import by a CSV\n",
    "CREATE TABLE IF NOT EXISTS bronze_design\n",
    "  (id INTEGER, name VARCHAR, type VARCHAR, designer VARCHAR);\n",
    "INSERT INTO bronze_design VALUES \n",
    "  (0,  'part0',   'part', 'Allen'), \n",
    "  (1,  'part1',   'part', 'Bobby'), \n",
    "  (2,  'part2',   'part', 'Cindy'), \n",
    "  (3,  'part00',  'part', 'David'), \n",
    "  (4,  'part001', 'part', 'Eddie'), \n",
    "  (5,  'part002', 'part', 'Frank'), \n",
    "  (6,  'part10',  'part', 'George'), \n",
    "  (7,  'part100', 'part', 'Harry'), \n",
    "  (8,  'part101', 'part', 'Ivan'), \n",
    "  (9,  'part11',  'part', 'Jack'), \n",
    "  (10, 'part110', 'part', 'Kevin'), \n",
    "  (11, 'part111', 'part', 'Larry'); \n",
    "\n",
    "-- company info, import by a CSV\n",
    "CREATE TABLE IF NOT EXISTS bronze_design_office\n",
    "  (design VARCHAR, office VARCHAR);\n",
    "INSERT INTO bronze_design_office VALUES \n",
    "  ('part001', 'SmartView' ), \n",
    "  ('part10', 'FutureIdea'); \n",
    "\n",
    "SELECT * from bronze_design;"
   ]
  },
  {
   "cell_type": "code",
   "execution_count": 11,
   "metadata": {
    "vscode": {
     "languageId": "sql"
    }
   },
   "outputs": [
    {
     "data": {
      "text/html": [
       "<table>\n",
       "    <thead>\n",
       "        <tr>\n",
       "            <th>Count</th>\n",
       "        </tr>\n",
       "    </thead>\n",
       "    <tbody>\n",
       "        <tr>\n",
       "            <td>12</td>\n",
       "        </tr>\n",
       "    </tbody>\n",
       "</table>"
      ],
      "text/plain": [
       "+-------+\n",
       "| Count |\n",
       "+-------+\n",
       "|   12  |\n",
       "+-------+"
      ]
     },
     "execution_count": 11,
     "metadata": {},
     "output_type": "execute_result"
    }
   ],
   "source": [
    "%%sql\n",
    "CREATE TABLE IF NOT EXISTS silver_design\n",
    "(\n",
    "    uuid UUID PRIMARY KEY,\n",
    "    name VARCHAR,\n",
    "    type VARCHAR,\n",
    "    designer VARCHAR,\n",
    "    parent VARCHAR,\n",
    "    group_name VARCHAR,\n",
    "    office VARCHAR\n",
    ");\n",
    "WITH bronze_design_augmented AS (\n",
    "    SELECT \n",
    "        *,\n",
    "        uuid() AS uuid,\n",
    "        -- LENGTH(name) - LENGTH(REPLACE(name, '1', '')) AS level\n",
    "    FROM \n",
    "        bronze_design\n",
    "),\n",
    "design_hierarchy AS (\n",
    "    SELECT \n",
    "        bd1.uuid,\n",
    "        bd1.id,\n",
    "        bd1.name,\n",
    "        bd1.type,\n",
    "        bd1.designer,\n",
    "        -- bd1.level,\n",
    "        bd2.name AS parent\n",
    "    FROM \n",
    "        bronze_design_augmented bd1\n",
    "    LEFT JOIN \n",
    "        bronze_design_augmented bd2\n",
    "    ON \n",
    "        bd2.name = SUBSTRING(bd1.name FROM 1 FOR LENGTH(bd1.name) - 1) \n",
    "        -- AND bd1.level = bd2.level + 1\n",
    "),\n",
    "design_groups AS (\n",
    "    SELECT \n",
    "        dh1.uuid,\n",
    "        dh1.name,\n",
    "        dh1.type,\n",
    "        dh1.designer,\n",
    "        dh1.parent,\n",
    "        COALESCE(dh2.name, dh1.name) AS group_name\n",
    "    FROM \n",
    "        design_hierarchy dh1\n",
    "    LEFT JOIN \n",
    "        design_hierarchy dh2\n",
    "    ON \n",
    "        dh1.parent = dh2.name\n",
    "),\n",
    "design_offices AS (\n",
    "    SELECT \n",
    "        dg.uuid,\n",
    "        dg.name,\n",
    "        dg.type,\n",
    "        dg.designer,\n",
    "        dg.parent,\n",
    "        dg.group_name,\n",
    "        COALESCE(bdo.office, '') AS office\n",
    "    FROM \n",
    "        design_groups dg\n",
    "    LEFT JOIN \n",
    "        bronze_design_office bdo\n",
    "    ON \n",
    "        dg.name = bdo.design OR dg.group_name = bdo.design\n",
    ")\n",
    "INSERT INTO silver_design\n",
    "SELECT \n",
    "    uuid,\n",
    "    name,\n",
    "    type,\n",
    "    designer,\n",
    "    parent,\n",
    "    group_name,\n",
    "    office\n",
    "FROM \n",
    "    design_offices;\n",
    "\n"
   ]
  },
  {
   "cell_type": "code",
   "execution_count": 9,
   "metadata": {
    "vscode": {
     "languageId": "sql"
    }
   },
   "outputs": [
    {
     "data": {
      "text/html": [
       "<table>\n",
       "    <thead>\n",
       "        <tr>\n",
       "            <th>Count</th>\n",
       "        </tr>\n",
       "    </thead>\n",
       "    <tbody>\n",
       "    </tbody>\n",
       "</table>"
      ],
      "text/plain": [
       "+-------+\n",
       "| Count |\n",
       "+-------+\n",
       "+-------+"
      ]
     },
     "execution_count": 9,
     "metadata": {},
     "output_type": "execute_result"
    }
   ],
   "source": [
    "%%sql\n",
    "DELETE from silver_design;"
   ]
  },
  {
   "cell_type": "code",
   "execution_count": null,
   "metadata": {
    "vscode": {
     "languageId": "sql"
    }
   },
   "outputs": [],
   "source": []
  },
  {
   "cell_type": "code",
   "execution_count": 12,
   "metadata": {
    "vscode": {
     "languageId": "sql"
    }
   },
   "outputs": [
    {
     "data": {
      "text/html": [
       "<table>\n",
       "    <thead>\n",
       "        <tr>\n",
       "            <th>uuid</th>\n",
       "            <th>name</th>\n",
       "            <th>type</th>\n",
       "            <th>designer</th>\n",
       "            <th>parent</th>\n",
       "            <th>group_name</th>\n",
       "            <th>office</th>\n",
       "        </tr>\n",
       "    </thead>\n",
       "    <tbody>\n",
       "        <tr>\n",
       "            <td>60a8c7e3-5c03-4ae3-8d47-b14f72fa8d13</td>\n",
       "            <td>part001</td>\n",
       "            <td>part</td>\n",
       "            <td>Eddie</td>\n",
       "            <td>part00</td>\n",
       "            <td>part00</td>\n",
       "            <td>SmartView</td>\n",
       "        </tr>\n",
       "        <tr>\n",
       "            <td>91313fff-f932-4db5-94fd-945c784c1f6a</td>\n",
       "            <td>part10</td>\n",
       "            <td>part</td>\n",
       "            <td>George</td>\n",
       "            <td>part1</td>\n",
       "            <td>part1</td>\n",
       "            <td>FutureIdea</td>\n",
       "        </tr>\n",
       "        <tr>\n",
       "            <td>2eaf75f6-9bb5-4879-b4a6-890768304f7d</td>\n",
       "            <td>part100</td>\n",
       "            <td>part</td>\n",
       "            <td>Harry</td>\n",
       "            <td>part10</td>\n",
       "            <td>part10</td>\n",
       "            <td>FutureIdea</td>\n",
       "        </tr>\n",
       "        <tr>\n",
       "            <td>487932c9-3db8-410f-a9af-e607718e6b0f</td>\n",
       "            <td>part101</td>\n",
       "            <td>part</td>\n",
       "            <td>Ivan</td>\n",
       "            <td>part10</td>\n",
       "            <td>part10</td>\n",
       "            <td>FutureIdea</td>\n",
       "        </tr>\n",
       "        <tr>\n",
       "            <td>fccc42a6-3a14-4d04-b73d-05c062546262</td>\n",
       "            <td>part00</td>\n",
       "            <td>part</td>\n",
       "            <td>David</td>\n",
       "            <td>part0</td>\n",
       "            <td>part0</td>\n",
       "            <td></td>\n",
       "        </tr>\n",
       "        <tr>\n",
       "            <td>f67fdd06-b06e-47ac-85cb-aea133433302</td>\n",
       "            <td>part002</td>\n",
       "            <td>part</td>\n",
       "            <td>Frank</td>\n",
       "            <td>part00</td>\n",
       "            <td>part00</td>\n",
       "            <td></td>\n",
       "        </tr>\n",
       "        <tr>\n",
       "            <td>42fbe36a-1bdd-495c-8072-4302d5d90e23</td>\n",
       "            <td>part11</td>\n",
       "            <td>part</td>\n",
       "            <td>Jack</td>\n",
       "            <td>part1</td>\n",
       "            <td>part1</td>\n",
       "            <td></td>\n",
       "        </tr>\n",
       "        <tr>\n",
       "            <td>826dd463-024f-425a-bc7d-7f29a1716963</td>\n",
       "            <td>part110</td>\n",
       "            <td>part</td>\n",
       "            <td>Kevin</td>\n",
       "            <td>part11</td>\n",
       "            <td>part11</td>\n",
       "            <td></td>\n",
       "        </tr>\n",
       "        <tr>\n",
       "            <td>5ad3927f-063d-47c5-8905-eed638024e7a</td>\n",
       "            <td>part111</td>\n",
       "            <td>part</td>\n",
       "            <td>Larry</td>\n",
       "            <td>part11</td>\n",
       "            <td>part11</td>\n",
       "            <td></td>\n",
       "        </tr>\n",
       "        <tr>\n",
       "            <td>3e3bd427-5a04-444a-bbc1-218d65000c07</td>\n",
       "            <td>part0</td>\n",
       "            <td>part</td>\n",
       "            <td>Allen</td>\n",
       "            <td>None</td>\n",
       "            <td>part0</td>\n",
       "            <td></td>\n",
       "        </tr>\n",
       "        <tr>\n",
       "            <td>1dbb1874-6a30-4149-ba87-950890ee120d</td>\n",
       "            <td>part1</td>\n",
       "            <td>part</td>\n",
       "            <td>Bobby</td>\n",
       "            <td>None</td>\n",
       "            <td>part1</td>\n",
       "            <td></td>\n",
       "        </tr>\n",
       "        <tr>\n",
       "            <td>6662095c-5df5-4bb6-8f8e-9348933358a7</td>\n",
       "            <td>part2</td>\n",
       "            <td>part</td>\n",
       "            <td>Cindy</td>\n",
       "            <td>None</td>\n",
       "            <td>part2</td>\n",
       "            <td></td>\n",
       "        </tr>\n",
       "    </tbody>\n",
       "</table>"
      ],
      "text/plain": [
       "+--------------------------------------+---------+------+----------+--------+------------+------------+\n",
       "|                 uuid                 |   name  | type | designer | parent | group_name |   office   |\n",
       "+--------------------------------------+---------+------+----------+--------+------------+------------+\n",
       "| 60a8c7e3-5c03-4ae3-8d47-b14f72fa8d13 | part001 | part |  Eddie   | part00 |   part00   | SmartView  |\n",
       "| 91313fff-f932-4db5-94fd-945c784c1f6a |  part10 | part |  George  | part1  |   part1    | FutureIdea |\n",
       "| 2eaf75f6-9bb5-4879-b4a6-890768304f7d | part100 | part |  Harry   | part10 |   part10   | FutureIdea |\n",
       "| 487932c9-3db8-410f-a9af-e607718e6b0f | part101 | part |   Ivan   | part10 |   part10   | FutureIdea |\n",
       "| fccc42a6-3a14-4d04-b73d-05c062546262 |  part00 | part |  David   | part0  |   part0    |            |\n",
       "| f67fdd06-b06e-47ac-85cb-aea133433302 | part002 | part |  Frank   | part00 |   part00   |            |\n",
       "| 42fbe36a-1bdd-495c-8072-4302d5d90e23 |  part11 | part |   Jack   | part1  |   part1    |            |\n",
       "| 826dd463-024f-425a-bc7d-7f29a1716963 | part110 | part |  Kevin   | part11 |   part11   |            |\n",
       "| 5ad3927f-063d-47c5-8905-eed638024e7a | part111 | part |  Larry   | part11 |   part11   |            |\n",
       "| 3e3bd427-5a04-444a-bbc1-218d65000c07 |  part0  | part |  Allen   |  None  |   part0    |            |\n",
       "| 1dbb1874-6a30-4149-ba87-950890ee120d |  part1  | part |  Bobby   |  None  |   part1    |            |\n",
       "| 6662095c-5df5-4bb6-8f8e-9348933358a7 |  part2  | part |  Cindy   |  None  |   part2    |            |\n",
       "+--------------------------------------+---------+------+----------+--------+------------+------------+"
      ]
     },
     "execution_count": 12,
     "metadata": {},
     "output_type": "execute_result"
    }
   ],
   "source": [
    "%%sql\n",
    "select * from silver_design;"
   ]
  }
 ],
 "metadata": {
  "kernelspec": {
   "display_name": ".env",
   "language": "python",
   "name": "python3"
  },
  "language_info": {
   "codemirror_mode": {
    "name": "ipython",
    "version": 3
   },
   "file_extension": ".py",
   "mimetype": "text/x-python",
   "name": "python",
   "nbconvert_exporter": "python",
   "pygments_lexer": "ipython3",
   "version": "3.11.6"
  }
 },
 "nbformat": 4,
 "nbformat_minor": 2
}
